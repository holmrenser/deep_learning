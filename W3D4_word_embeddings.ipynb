{
 "cells": [
  {
   "cell_type": "markdown",
   "id": "dec1f1e7-b61a-4742-a3e5-a99c7e4096f2",
   "metadata": {
    "id": "dec1f1e7-b61a-4742-a3e5-a99c7e4096f2"
   },
   "source": [
    "# Word embeddings\n",
    "In this notebook we work with pretrained word embedding scores from the GloVe project. We use the smallest version, which maps 400,000 words into 50D embedding space, and was trained on 6 billion words.\n",
    "From the project description:\n",
    "> \"The training objective of GloVe is to learn word vectors such that their dot product equals the logarithm of the words' probability of co-occurrence\".\n",
    "\n",
    "For more details on model formulation and training procedures visit the [GloVe project website](https://nlp.stanford.edu/projects/glove/)."
   ]
  },
  {
   "cell_type": "code",
   "execution_count": null,
   "id": "aeb7dc75-8854-4a31-9ccb-ccd10126d524",
   "metadata": {
    "id": "aeb7dc75-8854-4a31-9ccb-ccd10126d524"
   },
   "outputs": [],
   "source": [
    "# All dependencies for the entire notebook\n",
    "import torch\n",
    "import torch.nn as nn\n",
    "import torch.nn.functional as F\n",
    "\n",
    "from warnings import warn\n",
    "from tqdm.auto import tqdm"
   ]
  },
  {
   "cell_type": "markdown",
   "id": "edb07660-cbbb-4445-8e61-059cf8dfa6fe",
   "metadata": {
    "id": "edb07660-cbbb-4445-8e61-059cf8dfa6fe"
   },
   "source": [
    "## Data"
   ]
  },
  {
   "cell_type": "code",
   "execution_count": null,
   "id": "01db6910-745b-4fdb-8dd1-9b12f3247564",
   "metadata": {
    "id": "01db6910-745b-4fdb-8dd1-9b12f3247564"
   },
   "outputs": [],
   "source": [
    "# Download and unzip glove word embeddings\n",
    "!wget -nc https://github.com/holmrenser/deep_learning/raw/main/data/glove.6B.50d.txt.gz\n",
    "!gunzip -f glove.6B.50d.txt.gz"
   ]
  },
  {
   "cell_type": "markdown",
   "id": "609f57a2-49e1-4c7a-8f84-168b8fa8b43c",
   "metadata": {
    "id": "609f57a2-49e1-4c7a-8f84-168b8fa8b43c"
   },
   "source": [
    "## Model\n",
    "We create a small class that wraps functionality for reading in the tab delimited file with pretrained embeddings, let's us select embeddings for specific words, and can calculate closest (in embedding space) words to a given word. The pretrained embeddings are parsed into a vocabulary mapping words to integer indices, and a torch embedding table that is accessed using these indices."
   ]
  },
  {
   "cell_type": "code",
   "execution_count": null,
   "id": "5226c299-865a-4425-9645-9cc32e24ac10",
   "metadata": {
    "id": "5226c299-865a-4425-9645-9cc32e24ac10"
   },
   "outputs": [],
   "source": [
    "class WordEmbedding(nn.Module):\n",
    "    \"\"\"Wrapper class for working with GloVe word embeddings\"\"\"\n",
    "    def __init__(self, vocab: dict[str, int], embeddings: torch.tensor):\n",
    "        super().__init__()\n",
    "        self.vocab = vocab\n",
    "        self.embeddings = nn.Embedding.from_pretrained(embeddings)\n",
    "\n",
    "    @classmethod\n",
    "    def from_pretrained(cls, filename: str) -> 'WordEmbedding':\n",
    "        \"\"\"Load pretrained embeddings from a whitespace-separated text file, first column is the word, rest are embeddings\"\"\"\n",
    "        vocab = {'<unk>': 0} # start vocabulary with special character <unk> for unknown words\n",
    "        embeddings = []\n",
    "\n",
    "        with open(filename,'r') as fh:\n",
    "            data = fh.readlines()\n",
    "            for i,line in enumerate(tqdm(data, desc='Loading')):\n",
    "                parts = line.split()\n",
    "\n",
    "                token = parts[0]\n",
    "                vocab[token] = i + 1 # add one to account for predefined <unk> token\n",
    "\n",
    "                embedding = list(map(float, parts[1:]))\n",
    "                embeddings.append(embedding)\n",
    "\n",
    "        embeddings = torch.tensor(embeddings)\n",
    "        unk_emb = embeddings.mean(dim=0) # embedding of unknown characters is average of all embeddings\n",
    "        embeddings = torch.vstack([unk_emb, embeddings])\n",
    "\n",
    "        return cls(vocab, embeddings)\n",
    "\n",
    "    def forward(self, word: str) -> torch.tensor:\n",
    "        \"\"\"Maps word to embedding vector\"\"\"\n",
    "        i = self.vocab.get(word, 0) # 0 is the index of the <unk> character\n",
    "        if i == 0:\n",
    "            warn(f'{word} is not in the vocabulary, returning average embedding')\n",
    "        return self.embeddings(torch.tensor([i]))\n",
    "\n",
    "    def find_closest(self, vec: torch.tensor, k: int=1) -> str:\n",
    "        \"\"\"Find closest k words of an embedding vector using cosine similarity\"\"\"\n",
    "        cos_sim = F.cosine_similarity(emb.embeddings.weight, vec)\n",
    "        closest_idx = torch.argsort(cos_sim, descending=True)[:k]\n",
    "        reverse_vocab = {v:k for k,v in self.vocab.items()}\n",
    "        words = [reverse_vocab[idx] for idx in closest_idx.tolist()]\n",
    "        return words[0] if k == 1 else words\n",
    "\n",
    "emb = WordEmbedding.from_pretrained('glove.6B.50d.txt')"
   ]
  },
  {
   "cell_type": "markdown",
   "id": "b761c6a8-9626-41db-b469-a57cae6ed45b",
   "metadata": {
    "id": "b761c6a8-9626-41db-b469-a57cae6ed45b"
   },
   "source": [
    "## Examples\n",
    "__Example 1:__ Selecting embeddings for arbitrary words can be done by calling a WordEmbedding class instance with a string."
   ]
  },
  {
   "cell_type": "code",
   "execution_count": null,
   "id": "00514ad6-df44-47a4-a25b-b6341f93182c",
   "metadata": {},
   "outputs": [],
   "source": [
    "emb('hot')"
   ]
  },
  {
   "cell_type": "markdown",
   "id": "bb10b6ad-3939-4fbc-9e0b-c69f221e7e28",
   "metadata": {},
   "source": [
    "__Example 2:__ Strings that are not in the pretrained vocabulary of 400,000 'words' raise a warning and return the average embedding of all words."
   ]
  },
  {
   "cell_type": "code",
   "execution_count": null,
   "id": "0c547747-afcd-45fd-abea-bdb9632f9f1f",
   "metadata": {},
   "outputs": [],
   "source": [
    "emb('solidgoldmagikarp')"
   ]
  },
  {
   "cell_type": "markdown",
   "id": "82a53482-10eb-469b-a7f0-3158348916a6",
   "metadata": {},
   "source": [
    "__Example 3:__ Using cosine similarity, we can identify words that are close in embedding space. The `find_closest` method implements searching with a given embedding."
   ]
  },
  {
   "cell_type": "code",
   "execution_count": null,
   "id": "c9dcca9a-1185-45b5-8d7c-4d5c144dd0db",
   "metadata": {
    "id": "c9dcca9a-1185-45b5-8d7c-4d5c144dd0db"
   },
   "outputs": [],
   "source": [
    "# Find the 10 words that are closest in embedding space to the embedding of 'frog'\n",
    "emb.find_closest(emb('solidgoldmagikarp'), k=10)"
   ]
  },
  {
   "cell_type": "markdown",
   "id": "511a0bd3-5abb-4958-bff2-c39f7e382eef",
   "metadata": {},
   "source": [
    "__Example 4:__ We can perform arithmetic on embedding vectors and find the closest word to resulting vector."
   ]
  },
  {
   "cell_type": "code",
   "execution_count": null,
   "id": "4870fb72-8535-43fa-a761-a89bb08b1b57",
   "metadata": {
    "id": "4870fb72-8535-43fa-a761-a89bb08b1b57"
   },
   "outputs": [],
   "source": [
    "# Reproducing bishop eq. 12.27 (p. 376)\n",
    "emb.find_closest(emb('paris') - emb('france') + emb('italy'))"
   ]
  },
  {
   "cell_type": "markdown",
   "id": "980bb784-9a9a-49bf-aa2d-6c18e50d5dda",
   "metadata": {
    "id": "980bb784-9a9a-49bf-aa2d-6c18e50d5dda"
   },
   "source": [
    "### Exercise 1\n",
    "What is the result of example 4 when you substitute 'italy' with 'germany'? Are there countries where this doesn't work?\n",
    "\n",
    "### Exercise 2\n",
    "Can you find a word in example 3 where the 10 closest words are not all semantically related to the input word? Can you explain why training on co-occurence can result in this observation?\n",
    "\n",
    "### Exercise 3\n",
    "Describe how you could visualize the similarity between words using their (high-dimensional) embedding vector."
   ]
  }
 ],
 "metadata": {
  "colab": {
   "provenance": []
  },
  "kernelspec": {
   "display_name": "deeplearning",
   "language": "python",
   "name": "python3"
  },
  "language_info": {
   "codemirror_mode": {
    "name": "ipython",
    "version": 3
   },
   "file_extension": ".py",
   "mimetype": "text/x-python",
   "name": "python",
   "nbconvert_exporter": "python",
   "pygments_lexer": "ipython3",
   "version": "3.11.11"
  }
 },
 "nbformat": 4,
 "nbformat_minor": 5
}
