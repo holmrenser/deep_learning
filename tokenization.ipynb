{
 "cells": [
  {
   "cell_type": "code",
   "execution_count": 17,
   "id": "9ea423c1-af9f-4ecf-a092-80e673d1b4a2",
   "metadata": {},
   "outputs": [
    {
     "name": "stdout",
     "output_type": "stream",
     "text": [
      "Collecting sentencepiece\n",
      "  Downloading sentencepiece-0.1.99.tar.gz (2.6 MB)\n",
      "\u001b[2K     \u001b[38;2;114;156;31m━━━━━━━━━━━━━━━━━━━━━━━━━━━━━━━━━━━━━━━━\u001b[0m \u001b[32m2.6/2.6 MB\u001b[0m \u001b[31m5.6 MB/s\u001b[0m eta \u001b[36m0:00:00\u001b[0mm eta \u001b[36m0:00:01\u001b[0m[36m0:00:01\u001b[0m\n",
      "\u001b[?25h  Preparing metadata (setup.py) ... \u001b[?25ldone\n",
      "\u001b[?25hBuilding wheels for collected packages: sentencepiece\n",
      "  Building wheel for sentencepiece (setup.py) ... \u001b[?25ldone\n",
      "\u001b[?25h  Created wheel for sentencepiece: filename=sentencepiece-0.1.99-cp312-cp312-macosx_11_0_arm64.whl size=1163644 sha256=149a2dae00ff2e576365fbdb69451f77423b84042ecd68a10a04d0d4041d059e\n",
      "  Stored in directory: /Users/rensholmer/Library/Caches/pip/wheels/e0/8c/e0/65e33b1f4b8462dfc537a0cac02e5c03e1207564c300e4bde5\n",
      "Successfully built sentencepiece\n",
      "Installing collected packages: sentencepiece\n",
      "Successfully installed sentencepiece-0.1.99\n"
     ]
    }
   ],
   "source": [
    "import sys\n",
    "!{sys.executable} -m pip install sentencepiece"
   ]
  },
  {
   "cell_type": "code",
   "execution_count": 32,
   "id": "284d7309-a8bf-4559-9a61-cff5a4ca3edf",
   "metadata": {},
   "outputs": [],
   "source": [
    "from sentencepiece import SentencePieceProcessor, SentencePieceTrainer"
   ]
  },
  {
   "cell_type": "code",
   "execution_count": 47,
   "id": "b38882b4-5535-4b67-acac-db09e96db84b",
   "metadata": {},
   "outputs": [],
   "source": [
    "SentencePieceTrainer.train('--input=input.txt --model_prefix=shakespeare_200 --vocab_size=200 --model_type=bpe')"
   ]
  },
  {
   "cell_type": "code",
   "execution_count": 48,
   "id": "61c3233f-a707-4dcd-8194-78ebea8c9bfd",
   "metadata": {},
   "outputs": [
    {
     "data": {
      "text/plain": [
       "True"
      ]
     },
     "execution_count": 48,
     "metadata": {},
     "output_type": "execute_result"
    }
   ],
   "source": [
    "sp = SentencePieceProcessor()\n",
    "sp.load('shakespeare_200.model')"
   ]
  },
  {
   "cell_type": "code",
   "execution_count": 51,
   "id": "7d440135-b398-448a-a113-2439e5f8c1d5",
   "metadata": {},
   "outputs": [
    {
     "data": {
      "text/plain": [
       "'hello how are you'"
      ]
     },
     "execution_count": 51,
     "metadata": {},
     "output_type": "execute_result"
    }
   ],
   "source": [
    "sp.decode(sp.encode('hello how are you'))"
   ]
  },
  {
   "cell_type": "code",
   "execution_count": 50,
   "id": "1daeeeb6-c4d1-47f3-9255-22eab05f0512",
   "metadata": {},
   "outputs": [
    {
     "data": {
      "text/plain": [
       "200"
      ]
     },
     "execution_count": 50,
     "metadata": {},
     "output_type": "execute_result"
    }
   ],
   "source": [
    "sp.vocab_size()"
   ]
  },
  {
   "cell_type": "code",
   "execution_count": 52,
   "id": "7125217c-3095-4246-a692-2f9521f5ebd5",
   "metadata": {},
   "outputs": [
    {
     "data": {
      "text/plain": [
       "{'this': <Swig Object of type 'sentencepiece::SentencePieceProcessor *' at 0x111723300>,\n",
       " '_out_type': int,\n",
       " '_add_bos': False,\n",
       " '_add_eos': False,\n",
       " '_reverse': False,\n",
       " '_emit_unk_piece': False,\n",
       " '_enable_sampling': False,\n",
       " '_nbest_size': -1,\n",
       " '_alpha': 0.1,\n",
       " '_num_threads': -1}"
      ]
     },
     "execution_count": 52,
     "metadata": {},
     "output_type": "execute_result"
    }
   ],
   "source": [
    "sp.__dict__"
   ]
  }
 ],
 "metadata": {
  "kernelspec": {
   "display_name": "Python 3 (ipykernel)",
   "language": "python",
   "name": "python3"
  },
  "language_info": {
   "codemirror_mode": {
    "name": "ipython",
    "version": 3
   },
   "file_extension": ".py",
   "mimetype": "text/x-python",
   "name": "python",
   "nbconvert_exporter": "python",
   "pygments_lexer": "ipython3",
   "version": "3.12.0"
  }
 },
 "nbformat": 4,
 "nbformat_minor": 5
}
