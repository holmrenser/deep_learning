{
 "cells": [
  {
   "cell_type": "code",
   "execution_count": 156,
   "id": "9cca113c-86f8-464e-905c-051ecff81327",
   "metadata": {},
   "outputs": [],
   "source": [
    "import torch\n",
    "import torch.nn as nn\n",
    "import torch.nn.functional as F\n",
    "from torch.utils.data.dataloader import DataLoader\n",
    "from torch.utils.data import RandomSampler\n",
    "\n",
    "import math\n",
    "from typing import Tuple\n",
    "from dataclasses import dataclass, field\n",
    "from tqdm.auto import tqdm\n",
    "from matplotlib import pyplot as plt\n",
    "\n",
    "DEVICE = torch.device('cpu')"
   ]
  },
  {
   "cell_type": "markdown",
   "id": "a51b20e6-f32e-48b3-bca8-bcd012724f44",
   "metadata": {},
   "source": [
    "## Data"
   ]
  },
  {
   "cell_type": "code",
   "execution_count": 188,
   "id": "2d8bf499-15f4-4904-bac5-78cedc6cf278",
   "metadata": {},
   "outputs": [
    {
     "data": {
      "text/plain": [
       "(892059, 222823)"
      ]
     },
     "execution_count": 188,
     "metadata": {},
     "output_type": "execute_result"
    }
   ],
   "source": [
    "@dataclass\n",
    "class CharacterTokenizer:\n",
    "    decode_dict: dict[int, str] = field(default_factory=dict)\n",
    "    encode_dict: dict[str, int] = field(default_factory=dict)\n",
    "\n",
    "    def get_vocab(self):\n",
    "        \"\"\"Character to int mapping\"\"\"\n",
    "        return self.encode_dict\n",
    "\n",
    "    def train(self, input_str: str) -> None:\n",
    "        \"\"\"Determine what character will be mapped to which int using lexicograpical order\"\"\"\n",
    "        chars = sorted(set(input_str))\n",
    "        self.decode_dict: dict[int, str] = dict(enumerate(chars))\n",
    "        self.encode_dict: dict[str, int] = {v:k for k,v in self.decode_dict.items()}\n",
    "\n",
    "    def encode(self, input: str) -> list[int]:\n",
    "        \"\"\"Turn a string into a list of ints using a pretrained lookup table\"\"\"\n",
    "        return [self.encode_dict[char] for char in input]\n",
    "\n",
    "    def decode(self, tokens: list[int]) -> str:\n",
    "        \"\"\"Turn a list of ints into a string using a reverse lookup table\"\"\"\n",
    "        return ''.join(self.decode_dict[token] for token in tokens)\n",
    "\n",
    "class CharacterDataset:\n",
    "    def __init__(self, data: str, tokenizer: CharacterTokenizer, context_size: int=256):\n",
    "        self.data = data\n",
    "        self.tokenizer = tokenizer\n",
    "        self.vocab_size = len(tokenizer.get_vocab())\n",
    "        self.context_size = context_size\n",
    "\n",
    "    def __repr__(self):\n",
    "        n_chars = len(self.data)\n",
    "        vocab_size = self.vocab_size\n",
    "        context_size = self.context_size\n",
    "        return f'CharacterDataset({n_chars=}, {vocab_size=}, {block_size=})'\n",
    "\n",
    "    @classmethod\n",
    "    def from_textfile(cls, filename: str, context_size: int=256) -> 'CharacterDataset':\n",
    "        \"\"\"Load a textfile and automatically 'train' a character level tokenizer\"\"\"\n",
    "        tokenizer = CharacterTokenizer()\n",
    "        with open(filename, 'r') as fh:\n",
    "            data = fh.read()\n",
    "            tokenizer.train(data)\n",
    "            return cls(data, tokenizer, context_size=context_size)\n",
    "\n",
    "    def train_test_split(self, train_percentage: float=0.8) -> Tuple['CharacterDataset','CharacterDataset']:\n",
    "        n_train_chars = int(train_percentage * len(self.data))\n",
    "\n",
    "        train_data = self.data[:n_train_chars]\n",
    "        train_dataset = CharacterDataset(train_data, self.tokenizer, self.context_size)\n",
    "\n",
    "        test_data = self.data[n_train_chars:]\n",
    "        test_dataset = CharacterDataset(test_data, self.tokenizer, self.context_size)\n",
    "\n",
    "        return train_dataset, test_dataset\n",
    "\n",
    "    def __len__(self) -> int:\n",
    "        return len(self.data) - self.context_size\n",
    "\n",
    "    def __getitem__(self, pos: int) -> torch.tensor:\n",
    "        \"\"\"Return tokens starting at pos up to pos + context_size, targets are shifted by one position\"\"\"\n",
    "        # grab a chunk of block_size characters from the data\n",
    "        chunk = self.data[pos:pos + self.context_size + 1]\n",
    "        # encode every character to an integer\n",
    "        tokens = self.tokenizer.encode(chunk)\n",
    "        # convert to tensor\n",
    "        tokens = torch.tensor(tokens, dtype=torch.long)\n",
    "        # targets are shifted one position from input\n",
    "        return tokens[:-1], tokens[1:]\n",
    "\n",
    "dataset = CharacterDataset.from_textfile('./input.txt')\n",
    "train_dataset,test_dataset = dataset.train_test_split()\n",
    "len(train_dataset),len(test_dataset)"
   ]
  },
  {
   "cell_type": "markdown",
   "id": "e0922a49-4c0b-4d15-a9aa-bf1c2b50f752",
   "metadata": {},
   "source": [
    "## Model"
   ]
  },
  {
   "cell_type": "code",
   "execution_count": 187,
   "id": "86b36e3e-5dcf-446c-b3ee-05743d8c082a",
   "metadata": {},
   "outputs": [],
   "source": [
    "class MLP(nn.Module):\n",
    "    \"\"\"Simple multi-layer perceptron with two linear layers and a relu non-linearity in between\"\"\"\n",
    "    def __init__(self, embedding_dim: int, bias: bool = False):\n",
    "        super().__init__()\n",
    "        self.mlp = nn.Sequential(\n",
    "            nn.Linear(in_features=embedding_dim, out_features=4 * embedding_dim, bias=bias),\n",
    "            nn.ReLU(),\n",
    "            nn.Linear(in_features=4 * embedding_dim, out_features=embedding_dim, bias=bias),\n",
    "        )\n",
    "\n",
    "    def forward(self, x: torch.tensor) -> torch.tensor:\n",
    "        return self.mlp(x)\n",
    "\n",
    "class DotProductAttention(nn.Module):\n",
    "    \"\"\"\"\"\"\n",
    "    def __init__(self, embedding_dim: int, bias: bool=False):\n",
    "        super().__init__()\n",
    "        self.w_k = nn.Linear(in_features=embedding_dim, out_features=embedding_dim, bias=bias)\n",
    "        self.w_q = nn.Linear(in_features=embedding_dim, out_features=embedding_dim, bias=bias)\n",
    "        self.w_v = nn.Linear(in_features=embedding_dim, out_features=embedding_dim, bias=bias)\n",
    "\n",
    "    def forward(self, x: torch.tensor) -> torch.tensor:\n",
    "        _,embedding_dim = x.size()\n",
    "        \n",
    "        k = self.w_k(x)\n",
    "        q = self.w_q(x)\n",
    "        v = self.w_v(x)\n",
    "\n",
    "        attention = (k @ q.T) / math.sqrt(embedding_dim)\n",
    "\n",
    "        return F.softmax(attention, dim=-1) @ v\n",
    "        \n",
    "        \n",
    "class TransformerBlock(nn.Module):\n",
    "    \"\"\"Transformer block that combines attention and MLP, both with pre-layernorm and residual connections\"\"\"\n",
    "    def __init__(self, embedding_dim: int, bias: bool = False):\n",
    "        super().__init__()\n",
    "        self.attention = nn.Sequential(\n",
    "            nn.LayerNorm(embedding_dim, bias=bias),\n",
    "            DotProductAttention(embedding_dim=embedding_dim, bias=bias)\n",
    "        )\n",
    "        self.projection = nn.Sequential(\n",
    "            nn.LayerNorm(embedding_dim, bias=bias),\n",
    "            MLP(embedding_dim=embedding_dim, bias=bias)\n",
    "        )\n",
    "\n",
    "    def forward(self, x: torch.tensor) -> torch.tensor:\n",
    "        attn = x + self.attention(x)\n",
    "        proj = attn + self.projection(attn)\n",
    "        return proj\n",
    "\n",
    "class AdditivePositionalEmbedding(nn.Module):\n",
    "    \"\"\"Wrapper class to add positional encoding to embedded tokens\"\"\"\n",
    "    def __init__(self, context_size: int, embedding_dim: int):\n",
    "        super().__init__()\n",
    "        self.embedding = nn.Embedding(num_embeddings=context_size, embedding_dim=embedding_dim)\n",
    "\n",
    "    def forward(self, x: torch.tensor) -> torch.tensor:\n",
    "        pos = torch.arange(0, x.size(0), dtype=torch.long, device=x.device)\n",
    "        return self.embedding(pos) + x\n",
    "\n",
    "class NaiveTransformer(nn.Module):\n",
    "    \"\"\"\"\"\"\n",
    "    def __init__(self, context_size: int, vocab_size: int, n_layers: int=4, embedding_dim: int=256):\n",
    "        super().__init__()\n",
    "        self.transformer = nn.Sequential(\n",
    "            nn.Embedding(num_embeddings=vocab_size, embedding_dim=embedding_dim), # token embedding\n",
    "            AdditivePositionalEmbedding(context_size, embedding_dim), # position embedding\n",
    "            nn.Sequential(*(TransformerBlock(embedding_dim=embedding_dim) for _ in range(n_layers))), # attention layers\n",
    "            nn.Linear(in_features=embedding_dim, out_features=vocab_size, bias=False) # output projection\n",
    "        )\n",
    "\n",
    "    def forward(self, x: torch.tensor, targets: torch.tensor=None) -> tuple[torch.tensor, torch.tensor]:\n",
    "        logits = self.transformer(x)\n",
    "        loss = None if targets is None else F.cross_entropy(logits, targets)\n",
    "        return logits, loss\n",
    "\n",
    "    def generate(self, sample_length: int=256):\n",
    "        pass\n",
    "\n",
    "model = NaiveTransformer(context_size=dataset.context_size, vocab_size=dataset.vocab_size)"
   ]
  },
  {
   "cell_type": "code",
   "execution_count": 179,
   "id": "6720bd1f-0b59-47b4-82fe-2b91496b038c",
   "metadata": {},
   "outputs": [
    {
     "data": {
      "text/plain": [
       "256"
      ]
     },
     "execution_count": 179,
     "metadata": {},
     "output_type": "execute_result"
    }
   ],
   "source": [
    "x.size(0)"
   ]
  },
  {
   "cell_type": "code",
   "execution_count": 181,
   "id": "fd05bdb7-74dd-465b-b29e-7d5a3a527214",
   "metadata": {},
   "outputs": [
    {
     "name": "stdout",
     "output_type": "stream",
     "text": [
      "TransformerConfig(context_size=256, vocab_size=65, n_layers=4, embedding_dim=128)\n"
     ]
    },
    {
     "data": {
      "application/vnd.jupyter.widget-view+json": {
       "model_id": "e0db5c1cac7643e7b33e8ee42f696241",
       "version_major": 2,
       "version_minor": 0
      },
      "text/plain": [
       "  0%|          | 0/100 [00:00<?, ?it/s]"
      ]
     },
     "metadata": {},
     "output_type": "display_data"
    },
    {
     "data": {
      "text/plain": [
       "[<matplotlib.lines.Line2D at 0x173213590>]"
      ]
     },
     "execution_count": 181,
     "metadata": {},
     "output_type": "execute_result"
    },
    {
     "data": {
      "image/png": "[encoded data removed]",
      "text/plain": [
       "<Figure size 640x480 with 1 Axes>"
      ]
     },
     "metadata": {},
     "output_type": "display_data"
    }
   ],
   "source": [
    "dataset = CharacterDataset.from_textfile('./input.txt', context_size=256)\n",
    "train_dataset, test_dataset = dataset.train_test_split()\n",
    "\n",
    "config = TransformerConfig(context_size=dataset.context_size, vocab_size=dataset.vocab_size, embedding_dim=128)\n",
    "\n",
    "print(config)\n",
    "\n",
    "model = NaiveTransformer(config)\n",
    "model = model.to(DEVICE)\n",
    "\n",
    "train_dataloader = DataLoader(\n",
    "    dataset=train_dataset,\n",
    "    sampler=RandomSampler(train_dataset, replacement=False, num_samples=5000),\n",
    "    batch_size=50\n",
    ")\n",
    "\n",
    "test_dataloader = DataLoader(\n",
    "    dataset=test_dataset,\n",
    "    sampler=RandomSampler(test_dataset, replacement=False, num_samples=1000),\n",
    "    batch_size=10\n",
    ")\n",
    "test_dataloader = iter(test_dataloader)\n",
    "\n",
    "train_loss = []\n",
    "test_loss = []\n",
    "\n",
    "optimizer = torch.optim.AdamW(model.parameters(), lr=1e-3)\n",
    "\n",
    "for i, train_batch in enumerate(tqdm(train_dataloader)):\n",
    "    model.zero_grad()\n",
    "    for x,y in zip(*train_batch):\n",
    "        _,loss = model(x.to(DEVICE), y.to(DEVICE))\n",
    "        # backprop and update the parameters\n",
    "        \n",
    "        loss.backward()\n",
    "    optimizer.step()\n",
    "        \n",
    "    if i % 10 == 0:\n",
    "        test_x, test_y = next(test_dataloader)\n",
    "        test_loss.append(model(test_x[0].to(DEVICE), test_y[0].to(DEVICE))[1].item())\n",
    "        train_loss.append(loss.item())\n",
    "\n",
    "plt.plot(train_loss, label='train')\n",
    "plt.plot(test_loss, label='test')"
   ]
  }
 ],
 "metadata": {
  "kernelspec": {
   "display_name": "Python 3 (ipykernel)",
   "language": "python",
   "name": "python3"
  },
  "language_info": {
   "codemirror_mode": {
    "name": "ipython",
    "version": 3
   },
   "file_extension": ".py",
   "mimetype": "text/x-python",
   "name": "python",
   "nbconvert_exporter": "python",
   "pygments_lexer": "ipython3",
   "version": "3.12.0"
  }
 },
 "nbformat": 4,
 "nbformat_minor": 5
}
