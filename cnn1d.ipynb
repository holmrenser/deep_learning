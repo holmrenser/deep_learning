{
 "cells": [
  {
   "cell_type": "code",
   "execution_count": 218,
   "id": "f5e85bdc-3ea1-439b-a5c1-83152660c5d5",
   "metadata": {},
   "outputs": [],
   "source": [
    "import torch\n",
    "import torch.nn as nn\n",
    "import torch.nn.functional as F\n",
    "from torch.utils.data.dataloader import DataLoader\n",
    "from torch.utils.data import RandomSampler\n",
    "\n",
    "from dataclasses import dataclass, field\n",
    "from typing import Optional\n",
    "\n",
    "DEVICE = torch.device('mps')"
   ]
  },
  {
   "cell_type": "code",
   "execution_count": 372,
   "id": "4a5c338b-2f68-4454-9436-215b214fc679",
   "metadata": {},
   "outputs": [
    {
     "data": {
      "text/plain": [
       "torch.Size([65, 4])"
      ]
     },
     "execution_count": 372,
     "metadata": {},
     "output_type": "execute_result"
    }
   ],
   "source": [
    "@dataclass\n",
    "class CharacterTokenizer:\n",
    "    decode_dict: dict[int, str] = field(default_factory=dict)\n",
    "    encode_dict: dict[str, int] = field(default_factory=dict)\n",
    "\n",
    "    def get_vocab(self):\n",
    "        \"\"\"Character to int mapping\"\"\"\n",
    "        return self.encode_dict\n",
    "\n",
    "    def train(self, input_str: str) -> None:\n",
    "        \"\"\"Determine what character will be mapped to which int using lexicograpical order\"\"\"\n",
    "        chars = sorted(set(input_str))\n",
    "        self.decode_dict: dict[int, str] = dict(enumerate(chars))\n",
    "        self.encode_dict: dict[str, int] = {v:k for k,v in self.decode_dict.items()}\n",
    "\n",
    "    def encode(self, input: str) -> list[int]:\n",
    "        \"\"\"Turn a string into a list of ints using a pretrained lookup table\"\"\"\n",
    "        return [self.encode_dict[char] for char in input]\n",
    "\n",
    "    def decode(self, tokens: list[int]) -> str:\n",
    "        \"\"\"Turn a list of ints into a string using a reverse lookup table\"\"\"\n",
    "        return ''.join(self.decode_dict[token] for token in tokens)\n",
    "\n",
    "class CharacterDataset:\n",
    "    def __init__(self, data: str, tokenizer: CharacterTokenizer, block_size: int=256):\n",
    "        self.data = data\n",
    "        self.tokenizer = tokenizer\n",
    "        self.vocab_size = len(tokenizer.get_vocab())\n",
    "        self.block_size = block_size\n",
    "\n",
    "    def __repr__(self):\n",
    "        n_chars = len(self.data)\n",
    "        vocab_size = self.vocab_size\n",
    "        block_size = self.block_size\n",
    "        return f'CharacterDataset({n_chars=}, {vocab_size=}, {block_size=})'\n",
    "\n",
    "    @classmethod\n",
    "    def from_textfile(cls, filename: str, block_size: int=256) -> 'CharacterDataset':\n",
    "        tokenizer = CharacterTokenizer()\n",
    "        with open(filename, 'r') as fh:\n",
    "            data = fh.read()\n",
    "            tokenizer.train(data)\n",
    "            return cls(data, tokenizer, block_size=block_size)\n",
    "\n",
    "    def train_test_split(self, train_percentage: float=0.8) -> tuple['CharacterDataset','CharacterDataset']:\n",
    "        n_train_chars = int(train_percentage * len(self.data))\n",
    "\n",
    "        train_data = self.data[:n_train_chars]\n",
    "        train_dataset = CharacterDataset(train_data, self.tokenizer, self.block_size)\n",
    "\n",
    "        test_data = self.data[n_train_chars:]\n",
    "        test_dataset = CharacterDataset(test_data, self.tokenizer, self.block_size)\n",
    "\n",
    "        return train_dataset, test_dataset\n",
    "\n",
    "    def __len__(self) -> int:\n",
    "        return len(self.data) - self.block_size\n",
    "\n",
    "    def __getitem__(self, idx: int) -> torch.tensor:\n",
    "        # grab a chunk of block_size characters from the data\n",
    "        chunk = self.data[idx:idx + self.block_size + 1]\n",
    "        # encode every character to an integer\n",
    "        tokens = self.tokenizer.encode(chunk)\n",
    "        # convert to tensor\n",
    "        tokens = torch.tensor(tokens, dtype=torch.long)\n",
    "        # use last character as target\n",
    "        x = F.one_hot(tokens[:-1], num_classes=self.vocab_size).type(torch.float32).T\n",
    "        y = tokens[-1:]\n",
    "        return x,y\n",
    "\n",
    "dataset = CharacterDataset.from_textfile('./input.txt', block_size=4)\n",
    "train_dataset,test_dataset = dataset.train_test_split()\n",
    "len(train_dataset),len(test_dataset)\n",
    "dataset[0][0].shape"
   ]
  },
  {
   "cell_type": "code",
   "execution_count": 708,
   "id": "a6b7122e-490a-492e-b479-b90f4c36b0c4",
   "metadata": {},
   "outputs": [
    {
     "data": {
      "text/plain": [
       "{'cnn.0.weight': 24960, 'cnn.3.weight': 49152, 'cnn.7.weight': 66560}"
      ]
     },
     "execution_count": 708,
     "metadata": {},
     "output_type": "execute_result"
    }
   ],
   "source": [
    "class CNN1D(nn.Module):\n",
    "    def __init__(self, vocab_size: int, block_size: int, conv_channels: int=128, use_bias: bool=False):\n",
    "        super().__init__()\n",
    "        assert block_size % 2 == 0, f'Invalid block_size, {block_size} is not an even number'\n",
    "        self.vocab_size = vocab_size\n",
    "        self.block_size = block_size\n",
    "        self.cnn = nn.Sequential(\n",
    "            # conv block 1\n",
    "            nn.LazyConv1d(out_channels=conv_channels, kernel_size=3, padding='same', bias=use_bias),\n",
    "            #nn.LayerNorm(block_size, bias=use_bias),\n",
    "            nn.ReLU(),\n",
    "            nn.MaxPool1d(kernel_size=2, stride=2),\n",
    "            # conv block 2\n",
    "            nn.LazyConv1d(out_channels=conv_channels, kernel_size=3, padding='same', bias=use_bias),\n",
    "            #nn.LayerNorm(int(block_size / 2), bias=use_bias),\n",
    "            nn.ReLU(),\n",
    "            nn.MaxPool1d(kernel_size=2, stride=2),\n",
    "            # output projection\n",
    "            nn.Flatten(1, -1),\n",
    "            nn.LazyLinear(dataset.vocab_size, bias=use_bias)\n",
    "        )\n",
    "    \n",
    "    def forward(self, X: torch.tensor, targets: Optional[torch.tensor]=None) -> tuple[torch.tensor, torch.tensor]:\n",
    "        logits = self.cnn(X)\n",
    "        if targets is None:\n",
    "            loss = None\n",
    "        else:\n",
    "            loss = F.cross_entropy(logits.view(-1, logits.size(-1)), targets.view(-1), ignore_index=-1)\n",
    "        return logits,loss\n",
    "\n",
    "    def generate(self, n_samples: int=1, sample_length: int=256, temperature: float = 1.0) -> list[list[int]]:\n",
    "        \"\"\"Generate samples, probably want to be in eval mode for this\"\"\"\n",
    "        device = next(self.parameters()).device\n",
    "        idx = torch.zeros((n_samples, dataset.block_size), dtype=torch.long, device=device)\n",
    "        \n",
    "        for _ in trange(sample_length):\n",
    "            input = F.one_hot(idx[:, -dataset.block_size:], dataset.vocab_size).to(torch.float).transpose(1,2)\n",
    "            logits, _ = model(input)\n",
    "            probs = F.softmax(logits / temperature, dim=-1)\n",
    "            idx_next = torch.multinomial(probs, num_samples=1)\n",
    "            idx = torch.cat([idx, idx_next], dim=1)\n",
    "\n",
    "        return idx[:,dataset.block_size:].tolist()\n",
    "\n",
    "model = CNN1D(dataset.vocab_size, block_size=dataset.block_size).to(DEVICE)\n",
    "\n",
    "model(dataset[0][0][None].to(DEVICE))\n",
    "\n",
    "{k:v.numel() for k,v in model.named_parameters()}"
   ]
  },
  {
   "cell_type": "code",
   "execution_count": 705,
   "id": "0f7f1ea7-e575-4e65-b7f0-6cecb84f0a52",
   "metadata": {},
   "outputs": [
    {
     "name": "stdout",
     "output_type": "stream",
     "text": [
      "Input shape:\t\ttorch.Size([1, 65, 32])\n",
      "\n",
      "Conv1d output shape:\ttorch.Size([1, 128, 32])\n",
      "LayerNorm output shape:\ttorch.Size([1, 128, 32])\n",
      "ReLU output shape:\ttorch.Size([1, 128, 32])\n",
      "MaxPool1d output shape:\ttorch.Size([1, 128, 16])\n",
      "Conv1d output shape:\ttorch.Size([1, 128, 16])\n",
      "LayerNorm output shape:\ttorch.Size([1, 128, 16])\n",
      "ReLU output shape:\ttorch.Size([1, 128, 16])\n",
      "MaxPool1d output shape:\ttorch.Size([1, 128, 8])\n",
      "Flatten output shape:\ttorch.Size([1, 1024])\n",
      "Linear output shape:\ttorch.Size([1, 65])\n"
     ]
    },
    {
     "data": {
      "text/plain": [
       "190128"
      ]
     },
     "execution_count": 705,
     "metadata": {},
     "output_type": "execute_result"
    }
   ],
   "source": [
    "X = train_dataset[0][0][None].to(DEVICE)\n",
    "print(f'Input shape:\\t\\t{X.shape}\\n')\n",
    "for layer in model.cnn:\n",
    "    X = layer(X)\n",
    "    print(f'{layer.__class__.__name__} output shape:\\t{X.shape}')\n",
    "sum(p.numel() for p in model.parameters())"
   ]
  },
  {
   "cell_type": "code",
   "execution_count": 702,
   "id": "6c9c3cc1-8b73-4f52-8bd8-96fb614b7c36",
   "metadata": {},
   "outputs": [
    {
     "data": {
      "application/vnd.jupyter.widget-view+json": {
       "model_id": "269946e8891449cb9ee98ca5f08a4843",
       "version_major": 2,
       "version_minor": 0
      },
      "text/plain": [
       "  0%|          | 0/256 [00:00<?, ?it/s]"
      ]
     },
     "metadata": {},
     "output_type": "display_data"
    },
    {
     "name": "stdout",
     "output_type": "stream",
     "text": [
      "rvoWsWWWssWWoWXoWSWssssssjvfWWssssssfjfFSSSssssssssvBWsssssssKcccrSSSSfSsSXWWjrfsssssssssssssssf''WfWrrrrrrWJffsssssssAXf\n",
      "\n",
      "\n",
      "j\n",
      "sssffffffffNWsssssscjXjWssssssDjBfjfcBzsssss\n",
      "BB\n",
      "s\n",
      "svssfsfrWffWsssssssXXsssssssf'frfNSSSssSX\n",
      "WWXXrxAsssssjscsssKfssfWsjfffSWrAsss\n",
      "s\n"
     ]
    }
   ],
   "source": [
    "model = CNN1D(vocab_size=dataset.vocab_size, block_size=dataset.block_size)\n",
    "dataloader = DataLoader(\n",
    "    dataset=dataset,\n",
    "    sampler=RandomSampler(dataset, replacement=False, num_samples=4000),\n",
    "    batch_size=4\n",
    ")\n",
    "X,y = next(iter(dataloader))\n",
    "pred,loss = model(X,y)\n",
    "\n",
    "for sample in model.generate(temperature=.1):\n",
    "    print(dataset.tokenizer.decode(sample))"
   ]
  },
  {
   "cell_type": "code",
   "execution_count": 709,
   "id": "39fe40c8-92d9-4ac5-9600-1a09ccd5c714",
   "metadata": {},
   "outputs": [
    {
     "data": {
      "application/vnd.jupyter.widget-view+json": {
       "model_id": "1e33c0c35b284852b139c6d3e2a88b75",
       "version_major": 2,
       "version_minor": 0
      },
      "text/plain": [
       "  0%|          | 0/2000 [00:00<?, ?it/s]"
      ]
     },
     "metadata": {},
     "output_type": "display_data"
    },
    {
     "data": {
      "text/plain": [
       "<matplotlib.legend.Legend at 0x330e2c860>"
      ]
     },
     "execution_count": 709,
     "metadata": {},
     "output_type": "execute_result"
    },
    {
     "data": {
      "image/png": "[encoded data removed]",
      "text/plain": [
       "<Figure size 640x480 with 1 Axes>"
      ]
     },
     "metadata": {},
     "output_type": "display_data"
    }
   ],
   "source": [
    "from tqdm.auto import tqdm,trange\n",
    "from matplotlib import pyplot as plt\n",
    "dataset = CharacterDataset.from_textfile('./input.txt', block_size=32)\n",
    "model = CNN1D(vocab_size=dataset.vocab_size, block_size=dataset.block_size)\n",
    "model.to(DEVICE)\n",
    "\n",
    "train_steps = 2000\n",
    "batch_size = 64\n",
    "\n",
    "train_dataset,test_dataset = dataset.train_test_split()\n",
    "\n",
    "train_dataloader = DataLoader(\n",
    "    dataset=train_dataset,\n",
    "    sampler=RandomSampler(train_dataset, replacement=True, num_samples=train_steps * batch_size),\n",
    "    batch_size=batch_size,\n",
    ")\n",
    "test_dataloader = DataLoader(\n",
    "    dataset=test_dataset,\n",
    "    sampler=RandomSampler(test_dataset, replacement=True, num_samples=20),\n",
    "    batch_size=batch_size,\n",
    ")\n",
    "\n",
    "optimizer = torch.optim.AdamW(params=model.parameters(), lr=1e-3, betas=(0.9, 0.95))\n",
    "\n",
    "train_losses = []\n",
    "test_losses = []\n",
    "\n",
    "for i,(x,y) in enumerate(tqdm(train_dataloader)):\n",
    "    x,y = x.to(DEVICE), y.to(DEVICE)\n",
    "    _,loss = model(x,y)\n",
    "    if i % 20 == 0:\n",
    "        train_losses.append(loss.item())\n",
    "        test_loss = torch.tensor([model(test_x.to(DEVICE),test_y.to(DEVICE))[1] for test_x, test_y in test_dataloader])\n",
    "        test_losses.append(torch.mean(test_loss).item())\n",
    "    losses.append(loss.item())\n",
    "    # backprop and update the parameters\n",
    "    model.zero_grad()\n",
    "    loss.backward()\n",
    "    optimizer.step()\n",
    "plt.plot(train_losses, label='train')\n",
    "plt.plot(test_losses, label='test')\n",
    "plt.legend()"
   ]
  },
  {
   "cell_type": "code",
   "execution_count": 713,
   "id": "9172ca20-e529-4146-9037-748e8b0b0376",
   "metadata": {},
   "outputs": [
    {
     "data": {
      "application/vnd.jupyter.widget-view+json": {
       "model_id": "ea402c254eb34b9f813f0fa76b29d2fa",
       "version_major": 2,
       "version_minor": 0
      },
      "text/plain": [
       "  0%|          | 0/128 [00:00<?, ?it/s]"
      ]
     },
     "metadata": {},
     "output_type": "display_data"
    },
    {
     "name": "stdout",
     "output_type": "stream",
     "text": [
      "IE:\n",
      "Io, her mimhothes you the corslee tauw lork him bore lick thin cecorn? thoiknele whas bur in sbelrades daad cohce sly levers\n",
      "EE:: I, hort non oolter,  outh pur.-\n",
      "\n",
      "OINIUTASURnICMim: fou ind and arisse.\n",
      "\n",
      "SIRRANM:\n",
      "Worat at ant erecor:\n",
      "Cather yoo be I then?\n",
      "E,:\n",
      "I, , the hit, my tourle, frout; sharlis me.\n",
      "\n",
      "UAPETINL:W mriceie rirom:\n",
      "Whed I Ot you trore afimengeants as art\n",
      "\n",
      "REY:\n",
      "Colnt w\n",
      "I:\n",
      "It, the, te, to tho yoe mow theld  of toy the the as peetrend udect nous sart;\n",
      "Sumlle hate ridh are loess, tupe hit tip us:\n",
      "T\n"
     ]
    }
   ],
   "source": [
    "for sample in model.generate(n_samples=4, sample_length=128):\n",
    "    print(dataset.tokenizer.decode(sample))"
   ]
  }
 ],
 "metadata": {
  "kernelspec": {
   "display_name": "Python 3 (ipykernel)",
   "language": "python",
   "name": "python3"
  },
  "language_info": {
   "codemirror_mode": {
    "name": "ipython",
    "version": 3
   },
   "file_extension": ".py",
   "mimetype": "text/x-python",
   "name": "python",
   "nbconvert_exporter": "python",
   "pygments_lexer": "ipython3",
   "version": "3.12.0"
  }
 },
 "nbformat": 4,
 "nbformat_minor": 5
}
