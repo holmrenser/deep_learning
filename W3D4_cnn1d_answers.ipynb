{
 "cells": [
  {
   "cell_type": "markdown",
   "id": "97e85360-2cdd-4a4b-88dd-99cc7c1c2be4",
   "metadata": {
    "id": "97e85360-2cdd-4a4b-88dd-99cc7c1c2be4"
   },
   "source": [
    "# 1D Convolutional Neural Network"
   ]
  },
  {
   "cell_type": "markdown",
   "id": "1787fd10-1379-44d6-b61c-60a2d5a3e139",
   "metadata": {
    "id": "1787fd10-1379-44d6-b61c-60a2d5a3e139"
   },
   "source": [
    "## Answers\n",
    "\n",
    "### Exercise 1\n",
    "- `x` shape: one hot encoded sequence of context length, so the shape is `vocab_size` x `context_length`\n",
    "- `y` shape: single next token\n",
    "\n",
    "### Exercise 2\n",
    "An example 1D CNN implementation is given below. After training for 2000 iterations using batch_size=64 and context_size=32, this achieves a training and test loss of 2.0 - 2.5."
   ]
  },
  {
   "cell_type": "code",
   "execution_count": null,
   "id": "2250bae8-dfc5-402e-a11a-41c07243f111",
   "metadata": {
    "id": "2250bae8-dfc5-402e-a11a-41c07243f111"
   },
   "outputs": [],
   "source": [
    "self.cnn = nn.Sequential(\n",
    "    # conv block 1\n",
    "    nn.Conv1d(in_channels=self.vocab_size, out_channels=conv_channels, kernel_size=3, padding='same', bias=use_bias),\n",
    "    nn.ReLU(),\n",
    "    nn.MaxPool1d(kernel_size=2, stride=2),\n",
    "    # conv block 2\n",
    "    nn.Conv1d(in_channels=conv_channels, out_channels=conv_channels, kernel_size=3, padding='same', bias=use_bias),\n",
    "    nn.ReLU(),\n",
    "    nn.MaxPool1d(kernel_size=2, stride=2),\n",
    "    # output projection\n",
    "    nn.Flatten(1, -1),\n",
    "    # Divide by 4 due to maxpooling twice\n",
    "    nn.Linear(in_features=int(conv_channels * self.context_size / 4), out_features=self.vocab_size, bias=use_bias)\n",
    ")"
   ]
  }
 ],
 "metadata": {
  "accelerator": "GPU",
  "colab": {
   "gpuType": "T4",
   "provenance": []
  },
  "kernelspec": {
   "display_name": "deeplearning",
   "language": "python",
   "name": "python3"
  },
  "language_info": {
   "codemirror_mode": {
    "name": "ipython",
    "version": 3
   },
   "file_extension": ".py",
   "mimetype": "text/x-python",
   "name": "python",
   "nbconvert_exporter": "python",
   "pygments_lexer": "ipython3",
   "version": "3.11.11"
  }
 },
 "nbformat": 4,
 "nbformat_minor": 5
}
