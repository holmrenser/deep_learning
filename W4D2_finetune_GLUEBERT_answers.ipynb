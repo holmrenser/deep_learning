{
 "cells": [
  {
   "cell_type": "markdown",
   "metadata": {
    "id": "UmLp0eqq4NRJ"
   },
   "source": [
    "# Fine-tuning BERT\n"
   ]
  },
  {
   "cell_type": "markdown",
   "metadata": {
    "id": "ior7mxOmJEMS"
   },
   "source": [
    "## Answers"
   ]
  },
  {
   "cell_type": "markdown",
   "metadata": {
    "id": "m918nk75JFuq"
   },
   "source": [
    "### Exercise 1\n",
    "\n",
    "You can clearly identify 12 encoder blocks, as follows:\n",
    "\n",
    "```\n",
    "TransformerEncoderBlock(\n",
    "        (attention): MultiHeadAttention(\n",
    "          (attention): DotProductAttention(\n",
    "            (dropout): Dropout(p=0.1, inplace=False)\n",
    "          )\n",
    "          (W_q): Linear(in_features=0, out_features=768, bias=True)\n",
    "          (W_k): Linear(in_features=0, out_features=768, bias=True)\n",
    "          (W_v): Linear(in_features=0, out_features=768, bias=True)\n",
    "          (W_o): Linear(in_features=0, out_features=768, bias=True)\n",
    "        )\n",
    "        (addnorm1): AddNorm(\n",
    "          (dropout): Dropout(p=0.1, inplace=False)\n",
    "          (ln): LayerNorm((768,), eps=1e-05, elementwise_affine=True)\n",
    "        )\n",
    "        (ffn): PositionWiseFFN(\n",
    "          (dense1): Linear(in_features=0, out_features=3072, bias=True)\n",
    "          (relu): ReLU()\n",
    "          (dense2): Linear(in_features=0, out_features=768, bias=True)\n",
    "        )\n",
    "        (addnorm2): AddNorm(\n",
    "          (dropout): Dropout(p=0.1, inplace=False)\n",
    "          (ln): LayerNorm((768,), eps=1e-05, elementwise_affine=True)\n",
    "        )\n",
    "      )\n",
    "```\n",
    "\n",
    "At the end, you will see an MLM layer (maxed language modelling) and an NSP layer (next sentence prediction); these were both used in pretraining. When fine-tuning BERT, we take the output of the encoder block."
   ]
  },
  {
   "cell_type": "markdown",
   "metadata": {
    "id": "n9CbefBuZd8Q"
   },
   "source": [
    "### Exercise 2\n",
    "\n",
    "If all goes well, you should get a similarity of ~0.91 for the two sentences that use \"bank\" to mean \"financial institution\", and ~0.80 resp. ~0.75 for the pairs with one sentence using \"bank\" as \"riverside\".\n",
    "\n",
    "There are many more homonyms that you can play with, see e.g. https://www.yourdictionary.com/articles/examples-homonyms."
   ]
  },
  {
   "cell_type": "markdown",
   "metadata": {
    "id": "FQIk7h8XaQk3"
   },
   "source": [
    "### Exercise 3\n",
    "\n",
    "Changing \"network\" in the first sentence to \"model\" or \"car\" indeed changes the classifcation."
   ]
  },
  {
   "cell_type": "markdown",
   "metadata": {
    "id": "Uahp5aOqaX46"
   },
   "source": [
    "### Exercise 4\n",
    "\n",
    "Left as an exercise for the reader, but full fine-tuning with more complex layers will likely take a bit more time than we have during the course."
   ]
  }
 ],
 "metadata": {
  "accelerator": "GPU",
  "colab": {
   "gpuType": "T4",
   "provenance": []
  },
  "kernelspec": {
   "display_name": "Python 3 (ipykernel)",
   "language": "python",
   "name": "python3"
  },
  "language_info": {
   "codemirror_mode": {
    "name": "ipython",
    "version": 3
   },
   "file_extension": ".py",
   "mimetype": "text/x-python",
   "name": "python",
   "nbconvert_exporter": "python",
   "pygments_lexer": "ipython3",
   "version": "3.12.0"
  }
 },
 "nbformat": 4,
 "nbformat_minor": 4
}
