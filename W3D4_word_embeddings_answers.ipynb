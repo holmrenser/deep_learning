{
 "cells": [
  {
   "cell_type": "markdown",
   "id": "dec1f1e7-b61a-4742-a3e5-a99c7e4096f2",
   "metadata": {
    "id": "dec1f1e7-b61a-4742-a3e5-a99c7e4096f2"
   },
   "source": [
    "# Word embeddings"
   ]
  },
  {
   "cell_type": "markdown",
   "id": "3b490e6f-1f4e-4f6b-abe0-5b43812c90d9",
   "metadata": {
    "id": "3b490e6f-1f4e-4f6b-abe0-5b43812c90d9"
   },
   "source": [
    "## Answers\n",
    "\n",
    "### Exercise 1\n",
    "'rome' becomes 'berlin', exactly as expected. Belgium does not work, returning 'paris' instead of 'brussels'\n",
    "\n",
    "### Exercise 2\n",
    "The 10 closest words to 'water' include 'dry' and 'sand', indicating co-occurrence (which was used for training) does not always capture semantic similarity. A wider context might be necessary to capture the true semantic meaning of an individual word.\n",
    "\n",
    "### Exercise 3\n",
    "You could use a dimensionality reduction technique like PCA (linear) or tSNE (nin-linear) to plot embedding points in 2D. Given that PCA is linear, you would expect that the arithmetic performed in example 4 would result in predictable positions in the plot."
   ]
  }
 ],
 "metadata": {
  "colab": {
   "provenance": []
  },
  "kernelspec": {
   "display_name": "deeplearning",
   "language": "python",
   "name": "python3"
  },
  "language_info": {
   "codemirror_mode": {
    "name": "ipython",
    "version": 3
   },
   "file_extension": ".py",
   "mimetype": "text/x-python",
   "name": "python",
   "nbconvert_exporter": "python",
   "pygments_lexer": "ipython3",
   "version": "3.11.11"
  }
 },
 "nbformat": 4,
 "nbformat_minor": 5
}
